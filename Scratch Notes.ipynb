{
 "cells": [
  {
   "cell_type": "code",
   "execution_count": 1,
   "metadata": {},
   "outputs": [],
   "source": [
    "import numpy as np"
   ]
  },
  {
   "cell_type": "code",
   "execution_count": 18,
   "metadata": {},
   "outputs": [],
   "source": [
    "def set_bit(bitboard, bit):\n",
    "    return bitboard | (1 << bit)"
   ]
  },
  {
   "cell_type": "code",
   "execution_count": 37,
   "metadata": {},
   "outputs": [],
   "source": [
    "bb = np.zeros(1, dtype=\"int64\")"
   ]
  },
  {
   "cell_type": "code",
   "execution_count": 48,
   "metadata": {},
   "outputs": [
    {
     "data": {
      "text/plain": [
       "numpy.int64"
      ]
     },
     "execution_count": 48,
     "metadata": {},
     "output_type": "execute_result"
    }
   ],
   "source": [
    "type(bb[0])"
   ]
  },
  {
   "cell_type": "code",
   "execution_count": 61,
   "metadata": {},
   "outputs": [
    {
     "data": {
      "text/plain": [
       "array([16777248])"
      ]
     },
     "execution_count": 61,
     "metadata": {},
     "output_type": "execute_result"
    }
   ],
   "source": [
    "set_bit(bb, 24)"
   ]
  },
  {
   "cell_type": "code",
   "execution_count": 65,
   "metadata": {},
   "outputs": [
    {
     "data": {
      "text/plain": [
       "16777248"
      ]
     },
     "execution_count": 65,
     "metadata": {},
     "output_type": "execute_result"
    }
   ],
   "source": [
    "set_bit(bb[0], 24)"
   ]
  },
  {
   "cell_type": "code",
   "execution_count": 63,
   "metadata": {},
   "outputs": [
    {
     "data": {
      "text/plain": [
       "255"
      ]
     },
     "execution_count": 63,
     "metadata": {},
     "output_type": "execute_result"
    }
   ],
   "source": [
    "0x00000000000000FF"
   ]
  },
  {
   "cell_type": "code",
   "execution_count": 66,
   "metadata": {},
   "outputs": [],
   "source": [
    "import string\n",
    "\n",
    "def get_binary_string(bb):\n",
    "    return format(bb[0], 'b').zfill(64)\n",
    "\n",
    "\n",
    "bitboard = np.zeros(1, dtype=np.uint64)\n",
    "board_size = 8\n",
    "\n",
    "def pprint_bb(bb):\n",
    "    bb = get_binary_string(bb)\n",
    "    val = ''\n",
    "    display_rank = board_size\n",
    "    board = [bb[i:i+board_size] for i in range(0, len(bb), board_size)]\n",
    "    for i, row in enumerate(board):\n",
    "        val += f'{display_rank} '\n",
    "        display_rank -= 1\n",
    "        for square in reversed(row):\n",
    "            if int(square):\n",
    "                val += ' ▓'\n",
    "                continue\n",
    "            val += ' ░'\n",
    "        val += '\\n'\n",
    "    val += '  '\n",
    "    for char in string.ascii_uppercase[:board_size]:\n",
    "        val += f' {char}'\n",
    "    print(val)"
   ]
  },
  {
   "cell_type": "code",
   "execution_count": 82,
   "metadata": {},
   "outputs": [
    {
     "name": "stdout",
     "output_type": "stream",
     "text": [
      "8  ░ ░ ░ ░ ░ ░ ░ ░\n",
      "7  ░ ░ ░ ░ ░ ░ ░ ░\n",
      "6  ░ ░ ░ ░ ░ ░ ░ ░\n",
      "5  ░ ░ ░ ░ ░ ░ ░ ░\n",
      "4  ░ ░ ░ ░ ░ ░ ░ ░\n",
      "3  ░ ░ ░ ░ ░ ░ ░ ░\n",
      "2  ░ ░ ░ ░ ░ ░ ░ ░\n",
      "1  ▓ ▓ ▓ ▓ ▓ ▓ ▓ ▓\n",
      "   A B C D E F G H\n"
     ]
    }
   ],
   "source": [
    "pprint_bb(np.array([0x00000000000000FF], dtype=\"uint64\"))"
   ]
  },
  {
   "cell_type": "code",
   "execution_count": 93,
   "metadata": {},
   "outputs": [
    {
     "name": "stdout",
     "output_type": "stream",
     "text": [
      "8  ▓ ░ ▓ ░ ░ ░ ░ ░\n",
      "7  ▓ ░ ▓ ░ ░ ░ ░ ░\n",
      "6  ▓ ░ ▓ ░ ░ ░ ░ ░\n",
      "5  ▓ ░ ▓ ░ ░ ░ ░ ░\n",
      "4  ▓ ░ ▓ ░ ░ ░ ░ ░\n",
      "3  ▓ ░ ▓ ░ ░ ░ ░ ░\n",
      "2  ▓ ░ ▓ ░ ░ ░ ░ ░\n",
      "1  ▓ ░ ▓ ░ ░ ░ ░ ░\n",
      "   A B C D E F G H\n"
     ]
    }
   ],
   "source": [
    "pprint_bb(np.array([0x0505050505050505], dtype=\"int64\"))"
   ]
  },
  {
   "cell_type": "code",
   "execution_count": 145,
   "metadata": {},
   "outputs": [
    {
     "name": "stdout",
     "output_type": "stream",
     "text": [
      "8  ░ ▓ ░ ░ ░ ░ ░ ░\n",
      "7  ░ ▓ ░ ░ ░ ░ ░ ░\n",
      "6  ░ ▓ ░ ░ ░ ░ ░ ░\n",
      "5  ░ ▓ ░ ░ ░ ░ ░ ░\n",
      "4  ░ ▓ ░ ░ ░ ░ ░ ░\n",
      "3  ░ ▓ ░ ░ ░ ░ ░ ░\n",
      "2  ░ ▓ ░ ░ ░ ░ ░ ░\n",
      "1  ░ ▓ ░ ░ ░ ░ ░ ░\n",
      "   A B C D E F G H\n",
      "8  ▓ ▓ ▓ ▓ ░ ░ ▓ ▓\n",
      "7  ▓ ░ ░ ░ ▓ ░ ░ ░\n",
      "6  ░ ▓ ░ ░ ▓ ░ ░ ░\n",
      "5  ░ ░ ░ ░ ░ ░ ░ ░\n",
      "4  ▓ ░ ▓ ▓ ░ ░ ░ ░\n",
      "3  ░ ░ ░ ▓ ░ ░ ░ ░\n",
      "2  ░ ▓ ░ ░ ▓ ▓ ░ ░\n",
      "1  ▓ ▓ ▓ ▓ ░ ▓ ░ ░\n",
      "   A B C D E F G H\n"
     ]
    }
   ],
   "source": [
    "pprint_bb(np.array([0x0202020202020202], dtype=\"uint64\"))\n",
    "pprint_bb(np.array([0xCF1112000D08322F], dtype=\"uint64\"))"
   ]
  },
  {
   "cell_type": "code",
   "execution_count": 104,
   "metadata": {},
   "outputs": [
    {
     "data": {
      "text/plain": [
       "'0b101000001010000010100000101000001010000010100000101000001010000'"
      ]
     },
     "execution_count": 104,
     "metadata": {},
     "output_type": "execute_result"
    }
   ],
   "source": [
    "bin(0x5050505050505050)"
   ]
  },
  {
   "cell_type": "code",
   "execution_count": 133,
   "metadata": {},
   "outputs": [
    {
     "data": {
      "text/plain": [
       "'0x1010101010101010'"
      ]
     },
     "execution_count": 133,
     "metadata": {},
     "output_type": "execute_result"
    }
   ],
   "source": [
    "hex(0x0808080808080808 << 1)"
   ]
  },
  {
   "cell_type": "code",
   "execution_count": 135,
   "metadata": {},
   "outputs": [
    {
     "data": {
      "text/plain": [
       "578721382704613384"
      ]
     },
     "execution_count": 135,
     "metadata": {},
     "output_type": "execute_result"
    }
   ],
   "source": [
    "np.uint64(0x0808080808080808)"
   ]
  },
  {
   "cell_type": "code",
   "execution_count": null,
   "metadata": {},
   "outputs": [],
   "source": []
  }
 ],
 "metadata": {
  "kernelspec": {
   "display_name": "Python 3",
   "language": "python",
   "name": "python3"
  },
  "language_info": {
   "codemirror_mode": {
    "name": "ipython",
    "version": 3
   },
   "file_extension": ".py",
   "mimetype": "text/x-python",
   "name": "python",
   "nbconvert_exporter": "python",
   "pygments_lexer": "ipython3",
   "version": "3.8.5"
  }
 },
 "nbformat": 4,
 "nbformat_minor": 4
}
